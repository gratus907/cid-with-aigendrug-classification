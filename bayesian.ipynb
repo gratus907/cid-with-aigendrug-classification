{
 "cells": [
  {
   "cell_type": "code",
   "execution_count": 56,
   "source": [
    "import torch\n",
    "import numpy as np \n",
    "from datautil import *\n",
    "from math import log2\n",
    "train_set, test_set = read_data_as_np(None)\n",
    "NUM_FEATURES = 3501\n",
    "DATASET_SIZE = len(train_set)\n",
    "feature_occ = [0] * NUM_FEATURES\n",
    "num_p_s = [0] * NUM_FEATURES\n",
    "num_n_s = [0] * NUM_FEATURES\n",
    "num_p = 0\n",
    "num_n = 0"
   ],
   "outputs": [],
   "metadata": {}
  },
  {
   "cell_type": "code",
   "execution_count": 57,
   "source": [
    "for i in range(DATASET_SIZE):\n",
    "    fp, tox = train_set[i]\n",
    "    if tox == 1: num_p += 1 \n",
    "    else: num_n += 1\n",
    "    for j in range(NUM_FEATURES):\n",
    "        if fp[j]: \n",
    "            feature_occ[j] += 1\n",
    "            if tox == 1: num_p_s[j] += 1 \n",
    "            else: num_n_s[j] += 1"
   ],
   "outputs": [],
   "metadata": {}
  },
  {
   "cell_type": "code",
   "execution_count": 68,
   "source": [
    "np.set_printoptions(threshold=sys.maxsize)\n",
    "\n",
    "weight = [0] * NUM_FEATURES\n",
    "THRESHOLD = 0.3\n",
    "MULTIPLIER = 10\n",
    "for i in range(NUM_FEATURES):\n",
    "    if feature_occ[i] == 0:\n",
    "        weight[i] = 0\n",
    "    else:\n",
    "        weight[i] = log2((num_p_s[i] + 1) / (num_n_s[i] + 1))\n",
    "        if abs(weight[i]) > THRESHOLD:\n",
    "            weight[i] *= MULTIPLIER\n",
    "        else:\n",
    "            weight[i] = 1\n",
    "weight = np.array(weight)\n",
    "print(torch.Tensor(weight))"
   ],
   "outputs": [],
   "metadata": {
    "pycharm": {
     "name": "#%%\n"
    }
   }
  },
  {
   "cell_type": "code",
   "execution_count": 69,
   "source": [
    "import numpy as np\n",
    "from sklearn import svm\n",
    "from datautil import *\n",
    "\n",
    "train_set, test_set = read_data_as_np(None)\n",
    "weighted_train_set, weighted_test_set = read_data_as_np(weight)\n",
    "\n",
    "print(f\"Loaded data : Matrix size {len(train_set)} x {len(train_set[0][0])}\")"
   ],
   "outputs": [
    {
     "output_type": "stream",
     "name": "stdout",
     "text": [
      "Loaded data : Matrix size 828 x 3501\n"
     ]
    }
   ],
   "metadata": {}
  },
  {
   "cell_type": "code",
   "execution_count": 70,
   "source": [
    "def X_Y_Split(data_points):\n",
    "    X, Y = [], []\n",
    "    for idx in range(len(data_points)):\n",
    "        x, y = data_points[idx]\n",
    "        X.append(x)\n",
    "        Y.append(y)\n",
    "    X = np.array(X)\n",
    "    Y = np.array(Y)\n",
    "    return X, Y\n",
    "\n",
    "def evaluate_classifier(classifier, test_data, title=\"\"):\n",
    "    print(f\"Evaluate {title}\")\n",
    "    testX, testY = X_Y_Split(test_data)\n",
    "    total = testY.shape[0]\n",
    "    testY = testY.ravel()\n",
    "    pred = classifier.predict(testX)\n",
    "    result = (pred==testY)\n",
    "    correct = (np.count_nonzero(result))\n",
    "    print(f\"{correct}/{total} correct ({100*correct/total:.3f}%)\")\n",
    "\n",
    "tX, tY = X_Y_Split(train_set)\n",
    "wtX, wtY = X_Y_Split(weighted_train_set)"
   ],
   "outputs": [],
   "metadata": {}
  },
  {
   "cell_type": "code",
   "execution_count": 71,
   "source": [
    "from sklearn.svm import SVC\n",
    "from sklearn.metrics.pairwise import *\n",
    "from e3fp.fingerprint.metrics.array_metrics import soergel, tanimoto, dice, cosine, pearson\n",
    "\n",
    "poly_clf = SVC(kernel='poly', degree=5, probability=False, coef0=0)\n",
    "poly_clf.fit(tX, tY)\n",
    "evaluate_classifier(poly_clf, test_set, \"Degree 5 polynomial\")\n",
    "\n",
    "tanimoto_clf = SVC(kernel=tanimoto)\n",
    "tanimoto_clf.fit(tX, tY)\n",
    "evaluate_classifier(tanimoto_clf, test_set, \"e3fp-tanimoto\")\n",
    "\n",
    "poly_clf = SVC(kernel='poly', degree=5, probability=False, coef0=0)\n",
    "poly_clf.fit(wtX, wtY)\n",
    "evaluate_classifier(poly_clf, test_set, \"Degree 5 polynomial-w\")\n",
    "\n",
    "tanimoto_clf = SVC(kernel=tanimoto)\n",
    "tanimoto_clf.fit(wtX, wtY)\n",
    "evaluate_classifier(tanimoto_clf, test_set, \"e3fp-tanimoto-w\")"
   ],
   "outputs": [
    {
     "output_type": "stream",
     "name": "stderr",
     "text": [
      "/home/gratus/.local/lib/python3.8/site-packages/sklearn/utils/validation.py:63: DataConversionWarning: A column-vector y was passed when a 1d array was expected. Please change the shape of y to (n_samples, ), for example using ravel().\n",
      "  return f(*args, **kwargs)\n"
     ]
    },
    {
     "output_type": "stream",
     "name": "stdout",
     "text": [
      "Evaluate Degree 5 polynomial\n",
      "126/207 correct (60.870%)\n",
      "Evaluate e3fp-tanimoto\n",
      "142/207 correct (68.599%)\n"
     ]
    },
    {
     "output_type": "stream",
     "name": "stderr",
     "text": [
      "/home/gratus/.local/lib/python3.8/site-packages/sklearn/utils/validation.py:63: DataConversionWarning: A column-vector y was passed when a 1d array was expected. Please change the shape of y to (n_samples, ), for example using ravel().\n",
      "  return f(*args, **kwargs)\n",
      "/home/gratus/.local/lib/python3.8/site-packages/sklearn/utils/validation.py:63: DataConversionWarning: A column-vector y was passed when a 1d array was expected. Please change the shape of y to (n_samples, ), for example using ravel().\n",
      "  return f(*args, **kwargs)\n"
     ]
    },
    {
     "output_type": "stream",
     "name": "stdout",
     "text": [
      "Evaluate Degree 5 polynomial-w\n",
      "120/207 correct (57.971%)\n",
      "Evaluate e3fp-tanimoto-w\n",
      "123/207 correct (59.420%)\n"
     ]
    },
    {
     "output_type": "stream",
     "name": "stderr",
     "text": [
      "/home/gratus/.local/lib/python3.8/site-packages/sklearn/utils/validation.py:63: DataConversionWarning: A column-vector y was passed when a 1d array was expected. Please change the shape of y to (n_samples, ), for example using ravel().\n",
      "  return f(*args, **kwargs)\n"
     ]
    }
   ],
   "metadata": {}
  }
 ],
 "metadata": {
  "orig_nbformat": 4,
  "language_info": {
   "name": "python",
   "version": "3.8.10",
   "mimetype": "text/x-python",
   "codemirror_mode": {
    "name": "ipython",
    "version": 3
   },
   "pygments_lexer": "ipython3",
   "nbconvert_exporter": "python",
   "file_extension": ".py"
  },
  "kernelspec": {
   "name": "python3",
   "display_name": "Python 3.8.10 64-bit"
  },
  "interpreter": {
   "hash": "916dbcbb3f70747c44a77c7bcd40155683ae19c65e1c03b4aa3499c5328201f1"
  }
 },
 "nbformat": 4,
 "nbformat_minor": 2
}