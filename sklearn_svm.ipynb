{
 "cells": [
  {
   "cell_type": "code",
   "execution_count": 8,
   "source": [
    "import numpy as np\n",
    "from sklearn import svm\n",
    "from datautil import *\n",
    "\n",
    "train_set, test_set = read_data_as_np(False)\n",
    "print(\"Loaded data\")"
   ],
   "outputs": [
    {
     "ename": "KeyError",
     "evalue": "'mercaptopurine'",
     "output_type": "error",
     "traceback": [
      "\u001B[0;31m---------------------------------------------------------------------------\u001B[0m",
      "\u001B[0;31mKeyError\u001B[0m                                  Traceback (most recent call last)",
      "\u001B[0;32m<ipython-input-8-52fc9d98c993>\u001B[0m in \u001B[0;36m<module>\u001B[0;34m\u001B[0m\n\u001B[1;32m      3\u001B[0m \u001B[0;32mfrom\u001B[0m \u001B[0mdatautil\u001B[0m \u001B[0;32mimport\u001B[0m \u001B[0;34m*\u001B[0m\u001B[0;34m\u001B[0m\u001B[0;34m\u001B[0m\u001B[0m\n\u001B[1;32m      4\u001B[0m \u001B[0;34m\u001B[0m\u001B[0m\n\u001B[0;32m----> 5\u001B[0;31m \u001B[0mtrain_set\u001B[0m\u001B[0;34m,\u001B[0m \u001B[0mtest_set\u001B[0m \u001B[0;34m=\u001B[0m \u001B[0mread_data_as_np\u001B[0m\u001B[0;34m(\u001B[0m\u001B[0;32mFalse\u001B[0m\u001B[0;34m)\u001B[0m\u001B[0;34m\u001B[0m\u001B[0;34m\u001B[0m\u001B[0m\n\u001B[0m\u001B[1;32m      6\u001B[0m \u001B[0mprint\u001B[0m\u001B[0;34m(\u001B[0m\u001B[0;34m\"Loaded data\"\u001B[0m\u001B[0;34m)\u001B[0m\u001B[0;34m\u001B[0m\u001B[0;34m\u001B[0m\u001B[0m\n\u001B[1;32m      7\u001B[0m \u001B[0;34m\u001B[0m\u001B[0m\n",
      "\u001B[0;32m~/Desktop/cid-with-aigendrug-classification/datautil.py\u001B[0m in \u001B[0;36mread_data_as_np\u001B[0;34m(weight)\u001B[0m\n\u001B[1;32m    102\u001B[0m         \u001B[0mself\u001B[0m\u001B[0;34m.\u001B[0m\u001B[0mchemicals\u001B[0m \u001B[0;34m=\u001B[0m \u001B[0mchem\u001B[0m\u001B[0;34m\u001B[0m\u001B[0;34m\u001B[0m\u001B[0m\n\u001B[1;32m    103\u001B[0m         \u001B[0mself\u001B[0m\u001B[0;34m.\u001B[0m\u001B[0muse_torch_tensor\u001B[0m \u001B[0;34m=\u001B[0m \u001B[0muse_torch_tensor\u001B[0m\u001B[0;34m\u001B[0m\u001B[0;34m\u001B[0m\u001B[0m\n\u001B[0;32m--> 104\u001B[0;31m         \u001B[0mself\u001B[0m\u001B[0;34m.\u001B[0m\u001B[0mweight\u001B[0m \u001B[0;34m=\u001B[0m \u001B[0mweight\u001B[0m\u001B[0;34m\u001B[0m\u001B[0;34m\u001B[0m\u001B[0m\n\u001B[0m\u001B[1;32m    105\u001B[0m \u001B[0;34m\u001B[0m\u001B[0m\n\u001B[1;32m    106\u001B[0m     \u001B[0;32mdef\u001B[0m \u001B[0m__len__\u001B[0m\u001B[0;34m(\u001B[0m\u001B[0mself\u001B[0m\u001B[0;34m)\u001B[0m\u001B[0;34m:\u001B[0m\u001B[0;34m\u001B[0m\u001B[0;34m\u001B[0m\u001B[0m\n",
      "\u001B[0;32m~/Desktop/cid-with-aigendrug-classification/datautil.py\u001B[0m in \u001B[0;36mread_files\u001B[0;34m()\u001B[0m\n\u001B[1;32m     58\u001B[0m         \u001B[0msmiles\u001B[0m \u001B[0;34m=\u001B[0m \u001B[0mcontent\u001B[0m\u001B[0;34m[\u001B[0m\u001B[0;36m1\u001B[0m\u001B[0;34m]\u001B[0m\u001B[0;34m\u001B[0m\u001B[0;34m\u001B[0m\u001B[0m\n\u001B[1;32m     59\u001B[0m         \u001B[0mtoxicity\u001B[0m \u001B[0;34m=\u001B[0m \u001B[0mint\u001B[0m\u001B[0;34m(\u001B[0m\u001B[0mcontent\u001B[0m\u001B[0;34m[\u001B[0m\u001B[0;36m2\u001B[0m\u001B[0;34m]\u001B[0m\u001B[0;34m.\u001B[0m\u001B[0mstrip\u001B[0m\u001B[0;34m(\u001B[0m\u001B[0;34m)\u001B[0m\u001B[0;34m)\u001B[0m\u001B[0;34m\u001B[0m\u001B[0;34m\u001B[0m\u001B[0m\n\u001B[0;32m---> 60\u001B[0;31m         \u001B[0mchemical_dict\u001B[0m\u001B[0;34m[\u001B[0m\u001B[0mchem_name\u001B[0m\u001B[0;34m]\u001B[0m\u001B[0;34m.\u001B[0m\u001B[0msmiles\u001B[0m \u001B[0;34m=\u001B[0m \u001B[0msmiles\u001B[0m\u001B[0;34m\u001B[0m\u001B[0;34m\u001B[0m\u001B[0m\n\u001B[0m\u001B[1;32m     61\u001B[0m         \u001B[0mchemical_dict\u001B[0m\u001B[0;34m[\u001B[0m\u001B[0mchem_name\u001B[0m\u001B[0;34m]\u001B[0m\u001B[0;34m.\u001B[0m\u001B[0mtoxicity\u001B[0m \u001B[0;34m=\u001B[0m \u001B[0mtoxicity\u001B[0m\u001B[0;34m\u001B[0m\u001B[0;34m\u001B[0m\u001B[0m\n\u001B[1;32m     62\u001B[0m \u001B[0;34m\u001B[0m\u001B[0m\n",
      "\u001B[0;31mKeyError\u001B[0m: 'mercaptopurine'"
     ]
    }
   ],
   "metadata": {
    "collapsed": true
   }
  },
  {
   "cell_type": "code",
   "execution_count": 3,
   "source": [
    "def X_Y_Split(data_points):\n",
    "    X, Y = [], []\n",
    "    for idx in range(len(data_points)):\n",
    "        x, y = data_points[idx]\n",
    "        X.append(x)\n",
    "        Y.append(y)\n",
    "    X = np.array(X)\n",
    "    Y = np.array(Y)\n",
    "    return X, Y\n",
    "\n",
    "def evaluate_classifier(classifier, test_data, title=\"\"):\n",
    "    print(f\"Evaluate {title}\")\n",
    "    testX, testY = X_Y_Split(test_data)\n",
    "    total = testY.shape[0]\n",
    "    testY = testY.ravel()\n",
    "    pred = classifier.predict(testX)\n",
    "    result = (pred==testY)\n",
    "    correct = (np.count_nonzero(result))\n",
    "    print(f\"{correct}/{total} correct ({100*correct/total:.3f}%)\")\n",
    "\n",
    "tX, tY = X_Y_Split(train_set)\n",
    "wtX, wtY = X_Y_Split(weighted_train_set)"
   ],
   "outputs": [],
   "metadata": {
    "collapsed": false,
    "pycharm": {
     "name": "#%%\n"
    }
   }
  },
  {
   "cell_type": "code",
   "execution_count": 4,
   "source": [
    "from sklearn.svm import SVC\n",
    "from sklearn.metrics.pairwise import *\n",
    "from e3fp.fingerprint.metrics.array_metrics import soergel, tanimoto, dice, cosine, pearson\n",
    "\n",
    "poly_clf = SVC(kernel='poly', degree=5, probability=True, coef0=0)\n",
    "poly_clf.fit(wtX, wtY)\n",
    "evaluate_classifier(poly_clf, weighted_test_set, \"Degree 5 polynomial\")\n",
    "\n",
    "\n",
    "tanimoto_clf = SVC(kernel=tanimoto)\n",
    "tanimoto_clf.fit(tX, tY)\n",
    "evaluate_classifier(tanimoto_clf, test_set, \"e3fp-tanimoto\")"
   ],
   "outputs": [
    {
     "name": "stderr",
     "output_type": "stream",
     "text": [
      "/home/gratus/.local/lib/python3.8/site-packages/sklearn/utils/validation.py:63: DataConversionWarning: A column-vector y was passed when a 1d array was expected. Please change the shape of y to (n_samples, ), for example using ravel().\n",
      "  return f(*args, **kwargs)\n"
     ]
    },
    {
     "name": "stdout",
     "output_type": "stream",
     "text": [
      "Evaluate Degree 5 polynomial\n",
      "132/207 correct (63.768%)\n",
      "Evaluate e3fp-tanimoto\n",
      "138/207 correct (66.667%)\n"
     ]
    },
    {
     "name": "stderr",
     "output_type": "stream",
     "text": [
      "/home/gratus/.local/lib/python3.8/site-packages/sklearn/utils/validation.py:63: DataConversionWarning: A column-vector y was passed when a 1d array was expected. Please change the shape of y to (n_samples, ), for example using ravel().\n",
      "  return f(*args, **kwargs)\n"
     ]
    }
   ],
   "metadata": {
    "collapsed": false,
    "pycharm": {
     "name": "#%%\n"
    }
   }
  },
  {
   "cell_type": "code",
   "execution_count": 5,
   "source": [
    "clf = SVC(kernel='rbf', gamma='auto')\n",
    "clf.fit(wtX, wtY)\n",
    "evaluate_classifier(clf, test_set, \"test\")\n",
    "print(tX[0])\n",
    "print(wtX[0])"
   ],
   "outputs": [
    {
     "name": "stderr",
     "output_type": "stream",
     "text": [
      "/home/gratus/.local/lib/python3.8/site-packages/sklearn/utils/validation.py:63: DataConversionWarning: A column-vector y was passed when a 1d array was expected. Please change the shape of y to (n_samples, ), for example using ravel().\n",
      "  return f(*args, **kwargs)\n"
     ]
    },
    {
     "name": "stdout",
     "output_type": "stream",
     "text": [
      "Evaluate test\n",
      "122/207 correct (58.937%)\n",
      "[1 1 1 ... 0 0 0]\n",
      "[1. 1. 1. ... 0. 0. 0.]\n"
     ]
    }
   ],
   "metadata": {}
  }
 ],
 "metadata": {
  "kernelspec": {
   "name": "pycharm-ab4a000e",
   "language": "python",
   "display_name": "PyCharm (ml-study)"
  },
  "language_info": {
   "name": "python",
   "version": "3.8.10",
   "mimetype": "text/x-python",
   "codemirror_mode": {
    "name": "ipython",
    "version": 3
   },
   "pygments_lexer": "ipython3",
   "nbconvert_exporter": "python",
   "file_extension": ".py"
  },
  "interpreter": {
   "hash": "916dbcbb3f70747c44a77c7bcd40155683ae19c65e1c03b4aa3499c5328201f1"
  }
 },
 "nbformat": 4,
 "nbformat_minor": 2
}