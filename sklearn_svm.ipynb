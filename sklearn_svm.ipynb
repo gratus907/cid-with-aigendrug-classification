{
 "cells": [
  {
   "cell_type": "code",
   "execution_count": 1,
   "source": [
    "import numpy as np\n",
    "from sklearn import svm\n",
    "from datautil import *\n",
    "\n",
    "train_set, test_set = read_data_as_np(None)\n",
    "weighted_train_set, weighted_test_set = read_data_as_np(True)\n",
    "print(WEIGHT)\n",
    "print(f\"Loaded data : Matrix size {len(train_set)} x {len(train_set[0][0])}\")"
   ],
   "outputs": [
    {
     "output_type": "stream",
     "name": "stderr",
     "text": [
      "RDKit WARNING: [23:18:02] Enabling RDKit 2019.09.1 jupyter extensions\n"
     ]
    },
    {
     "output_type": "stream",
     "name": "stdout",
     "text": [
      "[5.8496 5.4226 3.3921 ... 1.     7.3697 1.    ]\n",
      "Loaded data : Matrix size 828 x 3501\n"
     ]
    }
   ],
   "metadata": {
    "collapsed": true
   }
  },
  {
   "cell_type": "code",
   "execution_count": 2,
   "source": [
    "def X_Y_Split(data_points):\n",
    "    X, Y = [], []\n",
    "    for idx in range(len(data_points)):\n",
    "        x, y = data_points[idx]\n",
    "        X.append(x)\n",
    "        Y.append(y)\n",
    "    X = np.array(X)\n",
    "    Y = np.array(Y)\n",
    "    return X, Y\n",
    "\n",
    "def evaluate_classifier(classifier, test_data, title=\"\"):\n",
    "    print(f\"Evaluate {title}\")\n",
    "    testX, testY = X_Y_Split(test_data)\n",
    "    total = testY.shape[0]\n",
    "    testY = testY.ravel()\n",
    "    pred = classifier.predict(testX)\n",
    "    result = (pred==testY)\n",
    "    correct = (np.count_nonzero(result))\n",
    "    print(f\"{correct}/{total} correct ({100*correct/total:.3f}%)\")\n",
    "\n",
    "tX, tY = X_Y_Split(train_set)\n",
    "wtX, wtY = X_Y_Split(weighted_train_set)"
   ],
   "outputs": [],
   "metadata": {
    "collapsed": false,
    "pycharm": {
     "name": "#%%\n"
    }
   }
  },
  {
   "cell_type": "code",
   "execution_count": 3,
   "source": [
    "from sklearn.svm import SVC\n",
    "from sklearn.metrics.pairwise import *\n",
    "from e3fp.fingerprint.metrics.array_metrics import soergel, tanimoto, dice, cosine, pearson\n",
    "\n",
    "poly_clf = SVC(kernel='poly', degree=5, probability=True, coef0=0)\n",
    "poly_clf.fit(tX, tY)\n",
    "evaluate_classifier(poly_clf, test_set, \"Degree 5 polynomial\")\n",
    "\n",
    "\n",
    "tanimoto_clf = SVC(kernel=tanimoto)\n",
    "tanimoto_clf.fit(tX, tY)\n",
    "evaluate_classifier(tanimoto_clf, test_set, \"e3fp-tanimoto\")"
   ],
   "outputs": [
    {
     "output_type": "stream",
     "name": "stderr",
     "text": [
      "/home/gratus/.local/lib/python3.8/site-packages/sklearn/utils/validation.py:63: DataConversionWarning: A column-vector y was passed when a 1d array was expected. Please change the shape of y to (n_samples, ), for example using ravel().\n",
      "  return f(*args, **kwargs)\n"
     ]
    },
    {
     "output_type": "stream",
     "name": "stdout",
     "text": [
      "Evaluate Degree 5 polynomial\n",
      "135/207 correct (65.217%)\n",
      "Evaluate e3fp-tanimoto\n",
      "132/207 correct (63.768%)\n"
     ]
    },
    {
     "output_type": "stream",
     "name": "stderr",
     "text": [
      "/home/gratus/.local/lib/python3.8/site-packages/sklearn/utils/validation.py:63: DataConversionWarning: A column-vector y was passed when a 1d array was expected. Please change the shape of y to (n_samples, ), for example using ravel().\n",
      "  return f(*args, **kwargs)\n"
     ]
    }
   ],
   "metadata": {
    "collapsed": false,
    "pycharm": {
     "name": "#%%\n"
    }
   }
  },
  {
   "cell_type": "code",
   "execution_count": 4,
   "source": [
    "clf = SVC(kernel='rbf', gamma='auto')\n",
    "clf.fit(wtX, wtY)\n",
    "evaluate_classifier(clf, test_set, \"test\")\n",
    "print(tX[0])\n",
    "print(wtX[0])"
   ],
   "outputs": [
    {
     "output_type": "stream",
     "name": "stderr",
     "text": [
      "/home/gratus/.local/lib/python3.8/site-packages/sklearn/utils/validation.py:63: DataConversionWarning: A column-vector y was passed when a 1d array was expected. Please change the shape of y to (n_samples, ), for example using ravel().\n",
      "  return f(*args, **kwargs)\n"
     ]
    },
    {
     "output_type": "stream",
     "name": "stdout",
     "text": [
      "Evaluate test\n",
      "123/207 correct (59.420%)\n",
      "[1 1 1 ... 0 0 0]\n",
      "[1 0 0 ... 0 0 0]\n"
     ]
    }
   ],
   "metadata": {}
  }
 ],
 "metadata": {
  "kernelspec": {
   "name": "python3",
   "display_name": "Python 3.8.10 64-bit"
  },
  "language_info": {
   "name": "python",
   "version": "3.8.10",
   "mimetype": "text/x-python",
   "codemirror_mode": {
    "name": "ipython",
    "version": 3
   },
   "pygments_lexer": "ipython3",
   "nbconvert_exporter": "python",
   "file_extension": ".py"
  },
  "interpreter": {
   "hash": "916dbcbb3f70747c44a77c7bcd40155683ae19c65e1c03b4aa3499c5328201f1"
  }
 },
 "nbformat": 4,
 "nbformat_minor": 2
}